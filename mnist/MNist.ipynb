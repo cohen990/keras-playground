{
 "cells": [
  {
   "cell_type": "markdown",
   "metadata": {},
   "source": [
    "need to install all these dependencies\n",
    "pip/pip3 install keras\n",
    "pip/pip3 install matplotlib\n",
    "pip/pip3 install numpy\n",
    "pip/pip3 install tensorflow"
   ]
  },
  {
   "cell_type": "code",
   "execution_count": 1,
   "metadata": {},
   "outputs": [
    {
     "name": "stderr",
     "output_type": "stream",
     "text": [
      "Using TensorFlow backend.\n"
     ]
    }
   ],
   "source": [
    "import keras\n",
    "from keras.models import Sequential\n",
    "from keras.datasets import mnist\n",
    "from keras.layers import Dense\n",
    "import matplotlib.pyplot as plot\n",
    "import numpy as np\n",
    "import random\n",
    "import time\n"
   ]
  },
  {
   "cell_type": "markdown",
   "metadata": {},
   "source": [
    "Import the mnist data set and ensure the data is shaped properly.\n",
    "The original data is a (28, 28) pixel greyscale image. We need to flatten it for the network.\n",
    "Need a 1 dimensional array for the input (784, ) and a 1 dimensional array for the output (10,) but we have 60,000 data points. So we end up with (60000, 784) and (60000, 10)"
   ]
  },
  {
   "cell_type": "code",
   "execution_count": 45,
   "metadata": {},
   "outputs": [],
   "source": [
    "num_classes = 10\n",
    "(x_train, y_train), (x_test, y_test) = mnist.load_data()\n",
    "x_train = x_train.reshape(x_train.shape[0], x_train.shape[1] * x_train.shape[2])\n",
    "x_test = x_test.reshape(x_test.shape[0], x_test.shape[1] * x_test.shape[2])\n",
    "y_train = keras.utils.to_categorical(y_train, num_classes)\n",
    "y_test = keras.utils.to_categorical(y_test, num_classes)"
   ]
  },
  {
   "cell_type": "code",
   "execution_count": 46,
   "metadata": {},
   "outputs": [
    {
     "data": {
      "text/plain": [
       "(784,)"
      ]
     },
     "execution_count": 46,
     "metadata": {},
     "output_type": "execute_result"
    }
   ],
   "source": [
    "x_train[0].shape"
   ]
  },
  {
   "cell_type": "markdown",
   "metadata": {},
   "source": [
    "Just to show you what the data looks like"
   ]
  },
  {
   "cell_type": "code",
   "execution_count": 43,
   "metadata": {},
   "outputs": [
    {
     "data": {
      "image/png": "[encoded data removed]",
      "text/plain": [
       "<Figure size 432x288 with 1 Axes>"
      ]
     },
     "metadata": {},
     "output_type": "display_data"
    }
   ],
   "source": [
    "plot.imshow(random.choice(x_train).reshape(28, 28), cmap='gray')\n",
    "plot.show()"
   ]
  },
  {
   "cell_type": "markdown",
   "metadata": {},
   "source": [
    "We are using a fully connected feed forward neural network - \"Sequential\" makes it feed forward, \"Dense\" makes it fully connected.\n",
    "\n",
    "We're using a relu (rectified linear units)[https://en.wikipedia.org/wiki/Rectifier_(neural_networks)] activation in the hidden layer - it's often recommended for hidden layers in image based problems - not sure why :P\n",
    "\n",
    "We're using softmax in the final layer - it's similar to relu. For some reason, if you replace softmax with relu then the loss will be nan most of the time - not sure why\n",
    "\n",
    "Categorical Crossentropy [https://rdipietro.github.io/friendly-intro-to-cross-entropy-loss/] is used as the loss function. I think it's the de-facto loss function for categorisation problems. MSE is used in linear regression but is not suitable for categorisation\n",
    "\n",
    "The optimizer is RMSProp - Stochastic Gradient Descent caused problems for some reason\n",
    "\n",
    "Accuracy is added as a metric - it is simply the percentage of the training set that it guesses correctly. A random guesser we would expect to get 0.1 accuracy. A human, close to 1 accuracy"
   ]
  },
  {
   "cell_type": "code",
   "execution_count": 17,
   "metadata": {},
   "outputs": [],
   "source": [
    "model = Sequential()\n",
    "model.add(Dense(64, activation=\"relu\", input_shape=x_train.shape[1:]))\n",
    "model.add(Dense(10, activation=\"softmax\"))\n",
    "model.compile(loss=\"categorical_crossentropy\",\n",
    "              optimizer=\"RMSProp\",\n",
    "             metrics=[\"accuracy\"])"
   ]
  },
  {
   "cell_type": "code",
   "execution_count": 18,
   "metadata": {},
   "outputs": [
    {
     "name": "stdout",
     "output_type": "stream",
     "text": [
      "Epoch 1/10\n",
      "60000/60000 [==============================] - 15s 246us/step - loss: 9.7175 - acc: 0.3947\n",
      "Epoch 2/10\n",
      "60000/60000 [==============================] - 7s 116us/step - loss: 8.6656 - acc: 0.4605\n",
      "Epoch 3/10\n",
      "60000/60000 [==============================] - 6s 102us/step - loss: 7.6207 - acc: 0.5255\n",
      "Epoch 4/10\n",
      "60000/60000 [==============================] - 6s 104us/step - loss: 7.0849 - acc: 0.5592 4s - loss: 7.1746 \n",
      "Epoch 5/10\n",
      "60000/60000 [==============================] - 8s 127us/step - loss: 7.0061 - acc: 0.5644\n",
      "Epoch 6/10\n",
      "60000/60000 [==============================] - 8s 130us/step - loss: 6.9308 - acc: 0.5691 0s - loss: 6.9467 - a\n",
      "Epoch 7/10\n",
      "60000/60000 [==============================] - 6s 104us/step - loss: 6.9263 - acc: 0.5693\n",
      "Epoch 8/10\n",
      "60000/60000 [==============================] - 7s 113us/step - loss: 6.8863 - acc: 0.5720\n",
      "Epoch 9/10\n",
      "60000/60000 [==============================] - 13s 220us/step - loss: 6.8769 - acc: 0.5727\n",
      "Epoch 10/10\n",
      "60000/60000 [==============================] - 10s 171us/step - loss: 6.8238 - acc: 0.5760\n"
     ]
    },
    {
     "data": {
      "text/plain": [
       "<keras.callbacks.History at 0x1229de9b0>"
      ]
     },
     "execution_count": 18,
     "metadata": {},
     "output_type": "execute_result"
    }
   ],
   "source": [
    "model.fit(x_train, y_train, epochs=10)"
   ]
  },
  {
   "cell_type": "markdown",
   "metadata": {},
   "source": [
    "We evaluate the model against test data. If the accuracy and loss here are dramatically different to the training data, then we know that our model has overfitted to the training data and will not be useful in real world applications"
   ]
  },
  {
   "cell_type": "code",
   "execution_count": 19,
   "metadata": {},
   "outputs": [
    {
     "name": "stdout",
     "output_type": "stream",
     "text": [
      "10000/10000 [==============================] - 1s 58us/step\n"
     ]
    },
    {
     "data": {
      "text/plain": [
       "[6.9778738250732424, 0.56569999999999998]"
      ]
     },
     "execution_count": 19,
     "metadata": {},
     "output_type": "execute_result"
    }
   ],
   "source": [
    "model.evaluate(x_test, y_test)"
   ]
  },
  {
   "cell_type": "markdown",
   "metadata": {},
   "source": [
    "This is just a demonstration of the predictive abilities of the trained network - highlight it and hit ctrl+enter to run it against a new random member from the data set"
   ]
  },
  {
   "cell_type": "code",
   "execution_count": 28,
   "metadata": {},
   "outputs": [
    {
     "name": "stdout",
     "output_type": "stream",
     "text": [
      "Prediction:  4\n",
      "--------------\n"
     ]
    },
    {
     "data": {
      "image/png": "[encoded data removed]",
      "text/plain": [
       "<Figure size 432x288 with 1 Axes>"
      ]
     },
     "metadata": {},
     "output_type": "display_data"
    }
   ],
   "source": [
    "random_mnist_character = random.choice(x_train)\n",
    "result = np.argmax(model.predict(np.array([random_mnist_character])))\n",
    "print(\"Prediction: \", result)\n",
    "print(\"--------------\")\n",
    "\n",
    "plot.imshow(random_mnist_character.reshape(28,28), cmap='gray')\n",
    "plot.show()"
   ]
  },
  {
   "cell_type": "markdown",
   "metadata": {},
   "source": [
    "Here is a bunch of quick comparisons of different optimizers. Lower loss, higher accuracy is better."
   ]
  },
  {
   "cell_type": "code",
   "execution_count": 35,
   "metadata": {},
   "outputs": [
    {
     "name": "stdout",
     "output_type": "stream",
     "text": [
      "Epoch 1/10\n",
      "60000/60000 [==============================] - 10s 172us/step - loss: 7.6771 - acc: 0.5204\n",
      "Epoch 2/10\n",
      "60000/60000 [==============================] - 9s 147us/step - loss: 6.2344 - acc: 0.6113\n",
      "Epoch 3/10\n",
      "60000/60000 [==============================] - 11s 175us/step - loss: 5.5187 - acc: 0.6557\n",
      "Epoch 4/10\n",
      "60000/60000 [==============================] - 9s 147us/step - loss: 4.2440 - acc: 0.7344\n",
      "Epoch 5/10\n",
      "60000/60000 [==============================] - 14s 235us/step - loss: 4.1112 - acc: 0.7430\n",
      "Epoch 6/10\n",
      "60000/60000 [==============================] - 12s 202us/step - loss: 3.5934 - acc: 0.7748\n",
      "Epoch 7/10\n",
      "60000/60000 [==============================] - 15s 252us/step - loss: 2.8359 - acc: 0.8212\n",
      "Epoch 8/10\n",
      "60000/60000 [==============================] - 15s 256us/step - loss: 2.6369 - acc: 0.8344\n",
      "Epoch 9/10\n",
      "60000/60000 [==============================] - 14s 236us/step - loss: 2.6373 - acc: 0.8347\n",
      "Epoch 10/10\n",
      "60000/60000 [==============================] - 13s 221us/step - loss: 2.5512 - acc: 0.8401\n",
      "10000/10000 [==============================] - 2s 153us/step\n",
      "loss:  2.59183896751\n",
      "accuracy:  0.8381\n"
     ]
    }
   ],
   "source": [
    "# Root Mean Square Propagation\n",
    "model = Sequential()\n",
    "model.add(Dense(64, activation=\"relu\", input_shape=x_train.shape[1:]))\n",
    "model.add(Dense(10, activation=\"softmax\"))\n",
    "model.compile(loss=\"categorical_crossentropy\",\n",
    "              optimizer=\"RMSProp\",\n",
    "             metrics=[\"accuracy\"])\n",
    "\n",
    "model.fit(x_train, y_train, epochs=10)\n",
    "\n",
    "result = model.evaluate(x_test, y_test)\n",
    "print(\"loss: \", result[0])\n",
    "print(\"accuracy: \", result[1])"
   ]
  },
  {
   "cell_type": "code",
   "execution_count": 33,
   "metadata": {},
   "outputs": [
    {
     "name": "stdout",
     "output_type": "stream",
     "text": [
      "Epoch 1/10\n",
      "60000/60000 [==============================] - 16s 264us/step - loss: 14.5148 - acc: 0.0995\n",
      "Epoch 2/10\n",
      "60000/60000 [==============================] - 14s 230us/step - loss: 14.5176 - acc: 0.0993\n",
      "Epoch 3/10\n",
      "60000/60000 [==============================] - 13s 215us/step - loss: 14.5176 - acc: 0.0993\n",
      "Epoch 4/10\n",
      "60000/60000 [==============================] - 12s 201us/step - loss: 14.5176 - acc: 0.0993\n",
      "Epoch 5/10\n",
      "60000/60000 [==============================] - 14s 232us/step - loss: 14.5176 - acc: 0.0993\n",
      "Epoch 6/10\n",
      "60000/60000 [==============================] - 13s 209us/step - loss: 14.5176 - acc: 0.0993\n",
      "Epoch 7/10\n",
      "60000/60000 [==============================] - 14s 233us/step - loss: 14.5176 - acc: 0.0993\n",
      "Epoch 8/10\n",
      "60000/60000 [==============================] - 13s 214us/step - loss: 14.5176 - acc: 0.0993\n",
      "Epoch 9/10\n",
      "60000/60000 [==============================] - 15s 245us/step - loss: 14.5176 - acc: 0.0993\n",
      "Epoch 10/10\n",
      "60000/60000 [==============================] - 12s 204us/step - loss: 14.5176 - acc: 0.0993\n",
      "10000/10000 [==============================] - 1s 145us/step\n",
      "loss:  14.454707753\n",
      "accuracy:  0.1032\n"
     ]
    }
   ],
   "source": [
    "# Stochastic Gradient Descent\n",
    "model = Sequential()\n",
    "model.add(Dense(64, activation=\"relu\", input_shape=x_train.shape[1:]))\n",
    "model.add(Dense(10, activation=\"softmax\"))\n",
    "model.compile(loss=\"categorical_crossentropy\",\n",
    "              optimizer=\"sgd\",\n",
    "             metrics=[\"accuracy\"])\n",
    "\n",
    "model.fit(x_train, y_train, epochs=10)\n",
    "\n",
    "result = model.evaluate(x_test, y_test)\n",
    "print(\"loss: \", result[0])\n",
    "print(\"accuracy: \", result[1])"
   ]
  },
  {
   "cell_type": "code",
   "execution_count": 44,
   "metadata": {},
   "outputs": [
    {
     "name": "stdout",
     "output_type": "stream",
     "text": [
      "Epoch 1/10\n",
      "60000/60000 [==============================] - 10s 166us/step - loss: 10.6221 - acc: 0.3398\n",
      "Epoch 2/10\n",
      "60000/60000 [==============================] - 8s 128us/step - loss: 10.2030 - acc: 0.3664\n",
      "Epoch 3/10\n",
      "60000/60000 [==============================] - 7s 123us/step - loss: 10.1498 - acc: 0.3698\n",
      "Epoch 4/10\n",
      "60000/60000 [==============================] - 7s 115us/step - loss: 10.0202 - acc: 0.3780\n",
      "Epoch 5/10\n",
      "60000/60000 [==============================] - 8s 133us/step - loss: 9.9873 - acc: 0.3801\n",
      "Epoch 6/10\n",
      "60000/60000 [==============================] - 8s 132us/step - loss: 10.0039 - acc: 0.3791\n",
      "Epoch 7/10\n",
      "60000/60000 [==============================] - 7s 123us/step - loss: 9.9767 - acc: 0.3808\n",
      "Epoch 8/10\n",
      "60000/60000 [==============================] - 10s 165us/step - loss: 9.9871 - acc: 0.3802\n",
      "Epoch 9/10\n",
      "60000/60000 [==============================] - 9s 145us/step - loss: 9.9852 - acc: 0.3804\n",
      "Epoch 10/10\n",
      "60000/60000 [==============================] - 7s 125us/step - loss: 9.9593 - acc: 0.3819 1s - loss: 9.9699 - acc: 0.38 - ETA: 1s - loss: 9.9696 \n",
      "10000/10000 [==============================] - 0s 45us/step\n",
      "loss:  10.1267960815\n",
      "accuracy:  0.3716\n"
     ]
    }
   ],
   "source": [
    "# Adaptive Moment Estimation\n",
    "model = Sequential()\n",
    "model.add(Dense(64, activation=\"relu\", input_shape=x_train.shape[1:]))\n",
    "model.add(Dense(10, activation=\"softmax\"))\n",
    "model.compile(loss=\"categorical_crossentropy\",\n",
    "              optimizer=\"Adam\",\n",
    "             metrics=[\"accuracy\"])\n",
    "\n",
    "model.fit(x_train, y_train, epochs=10)\n",
    "\n",
    "result = model.evaluate(x_test, y_test)\n",
    "print(\"loss: \", result[0])\n",
    "print(\"accuracy: \", result[1])"
   ]
  },
  {
   "cell_type": "code",
   "execution_count": 37,
   "metadata": {},
   "outputs": [
    {
     "name": "stdout",
     "output_type": "stream",
     "text": [
      "Epoch 1/10\n",
      "60000/60000 [==============================] - 12s 199us/step - loss: 0.1658 - acc: 0.1705\n",
      "Epoch 2/10\n",
      "60000/60000 [==============================] - 8s 139us/step - loss: 0.1626 - acc: 0.1868\n",
      "Epoch 3/10\n",
      "60000/60000 [==============================] - 8s 141us/step - loss: 0.1612 - acc: 0.1933\n",
      "Epoch 4/10\n",
      "60000/60000 [==============================] - 9s 143us/step - loss: 0.1551 - acc: 0.2243\n",
      "Epoch 5/10\n",
      "60000/60000 [==============================] - 11s 185us/step - loss: 0.1496 - acc: 0.2518\n",
      "Epoch 6/10\n",
      "60000/60000 [==============================] - 15s 247us/step - loss: 0.1503 - acc: 0.2482\n",
      "Epoch 7/10\n",
      "60000/60000 [==============================] - 13s 217us/step - loss: 0.1491 - acc: 0.2544\n",
      "Epoch 8/10\n",
      "60000/60000 [==============================] - 13s 219us/step - loss: 0.1467 - acc: 0.2661\n",
      "Epoch 9/10\n",
      "60000/60000 [==============================] - 12s 202us/step - loss: 0.1471 - acc: 0.2643\n",
      "Epoch 10/10\n",
      "60000/60000 [==============================] - 16s 267us/step - loss: 0.1464 - acc: 0.2676\n",
      "10000/10000 [==============================] - 2s 237us/step\n",
      "loss:  0.145912384915\n",
      "accuracy:  0.2702\n"
     ]
    }
   ],
   "source": [
    "# Root Mean Square Propagation with mean squared error\n",
    "model = Sequential()\n",
    "model.add(Dense(64, activation=\"relu\", input_shape=x_train.shape[1:]))\n",
    "model.add(Dense(10, activation=\"softmax\"))\n",
    "model.compile(loss=\"mean_squared_error\",\n",
    "              optimizer=\"RMSProp\",\n",
    "             metrics=[\"accuracy\"])\n",
    "\n",
    "model.fit(x_train, y_train, epochs=10)\n",
    "\n",
    "result = model.evaluate(x_test, y_test)\n",
    "print(\"loss: \", result[0])\n",
    "print(\"accuracy: \", result[1])"
   ]
  },
  {
   "cell_type": "code",
   "execution_count": 38,
   "metadata": {},
   "outputs": [
    {
     "name": "stdout",
     "output_type": "stream",
     "text": [
      "Epoch 1/10\n",
      "60000/60000 [==============================] - 10s 166us/step - loss: 0.1366 - acc: 0.3119\n",
      "Epoch 2/10\n",
      "60000/60000 [==============================] - 8s 138us/step - loss: 0.1144 - acc: 0.4250\n",
      "Epoch 3/10\n",
      "60000/60000 [==============================] - 8s 138us/step - loss: 0.1110 - acc: 0.4423\n",
      "Epoch 4/10\n",
      "60000/60000 [==============================] - 8s 132us/step - loss: 0.1108 - acc: 0.4434\n",
      "Epoch 5/10\n",
      "60000/60000 [==============================] - 8s 134us/step - loss: 0.1092 - acc: 0.4517\n",
      "Epoch 6/10\n",
      "60000/60000 [==============================] - 12s 198us/step - loss: 0.0993 - acc: 0.5005\n",
      "Epoch 7/10\n",
      "60000/60000 [==============================] - 14s 230us/step - loss: 0.0934 - acc: 0.5305\n",
      "Epoch 8/10\n",
      "60000/60000 [==============================] - 9s 152us/step - loss: 0.0932 - acc: 0.5319\n",
      "Epoch 9/10\n",
      "60000/60000 [==============================] - 8s 134us/step - loss: 0.0919 - acc: 0.5384\n",
      "Epoch 10/10\n",
      "60000/60000 [==============================] - 8s 133us/step - loss: 0.0914 - acc: 0.5407\n",
      "10000/10000 [==============================] - 1s 117us/step\n",
      "loss:  0.0926221408248\n",
      "accuracy:  0.5348\n"
     ]
    }
   ],
   "source": [
    "# Stochastic Gradient Descent with mean squared error\n",
    "model = Sequential()\n",
    "model.add(Dense(64, activation=\"relu\", input_shape=x_train.shape[1:]))\n",
    "model.add(Dense(10, activation=\"softmax\"))\n",
    "model.compile(loss=\"mean_squared_error\",\n",
    "              optimizer=\"sgd\",\n",
    "             metrics=[\"accuracy\"])\n",
    "\n",
    "model.fit(x_train, y_train, epochs=10)\n",
    "\n",
    "result = model.evaluate(x_test, y_test)\n",
    "print(\"loss: \", result[0])\n",
    "print(\"accuracy: \", result[1])"
   ]
  },
  {
   "cell_type": "code",
   "execution_count": 39,
   "metadata": {},
   "outputs": [
    {
     "name": "stdout",
     "output_type": "stream",
     "text": [
      "Epoch 1/10\n",
      "60000/60000 [==============================] - 11s 181us/step - loss: 0.1492 - acc: 0.2533\n",
      "Epoch 2/10\n",
      "60000/60000 [==============================] - 9s 144us/step - loss: 0.1459 - acc: 0.2703\n",
      "Epoch 3/10\n",
      "60000/60000 [==============================] - 9s 144us/step - loss: 0.1441 - acc: 0.2792\n",
      "Epoch 4/10\n",
      "60000/60000 [==============================] - 9s 143us/step - loss: 0.1444 - acc: 0.2776\n",
      "Epoch 5/10\n",
      "60000/60000 [==============================] - 12s 205us/step - loss: 0.1425 - acc: 0.28720s - loss: 0.142\n",
      "Epoch 6/10\n",
      "60000/60000 [==============================] - 13s 224us/step - loss: 0.1426 - acc: 0.2871\n",
      "Epoch 7/10\n",
      "60000/60000 [==============================] - 10s 172us/step - loss: 0.1357 - acc: 0.3215\n",
      "Epoch 8/10\n",
      "60000/60000 [==============================] - 9s 146us/step - loss: 0.1279 - acc: 0.3605\n",
      "Epoch 9/10\n",
      "60000/60000 [==============================] - 8s 139us/step - loss: 0.1262 - acc: 0.3687\n",
      "Epoch 10/10\n",
      "60000/60000 [==============================] - 6s 93us/step - loss: 0.1295 - acc: 0.3523: 1s - loss: 0.\n",
      "10000/10000 [==============================] - 0s 42us/step\n",
      "loss:  0.125024506998\n",
      "accuracy:  0.3748\n"
     ]
    }
   ],
   "source": [
    "# Adaptive Moment Estimation with mean squared error\n",
    "model = Sequential()\n",
    "model.add(Dense(64, activation=\"relu\", input_shape=x_train.shape[1:]))\n",
    "model.add(Dense(10, activation=\"softmax\"))\n",
    "model.compile(loss=\"mean_squared_error\",\n",
    "              optimizer=\"Adam\",\n",
    "             metrics=[\"accuracy\"])\n",
    "\n",
    "model.fit(x_train, y_train, epochs=10)\n",
    "\n",
    "result = model.evaluate(x_test, y_test)\n",
    "print(\"loss: \", result[0])\n",
    "print(\"accuracy: \", result[1])"
   ]
  }
 ],
 "metadata": {
  "kernelspec": {
   "display_name": "Python 3",
   "language": "python",
   "name": "python3"
  },
  "language_info": {
   "codemirror_mode": {
    "name": "ipython",
    "version": 3
   },
   "file_extension": ".py",
   "mimetype": "text/x-python",
   "name": "python",
   "nbconvert_exporter": "python",
   "pygments_lexer": "ipython3",
   "version": "3.6.4"
  }
 },
 "nbformat": 4,
 "nbformat_minor": 2
}
