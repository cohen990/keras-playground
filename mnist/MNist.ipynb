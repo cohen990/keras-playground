{
 "cells": [
  {
   "cell_type": "markdown",
   "metadata": {},
   "source": [
    "need to install all these dependencies\n",
    "pip/pip3 install keras\n",
    "pip/pip3 install matplotlib\n",
    "pip/pip3 install numpy\n",
    "pip/pip3 install tensorflow"
   ]
  },
  {
   "cell_type": "code",
   "execution_count": 1,
   "metadata": {},
   "outputs": [
    {
     "name": "stderr",
     "output_type": "stream",
     "text": [
      "Using TensorFlow backend.\n"
     ]
    }
   ],
   "source": [
    "import keras\n",
    "from keras.models import Sequential\n",
    "from keras.datasets import mnist\n",
    "from keras.layers import Dense\n",
    "import matplotlib.pyplot as plot\n",
    "import numpy as np\n",
    "import random\n",
    "import time"
   ]
  },
  {
   "cell_type": "markdown",
   "metadata": {},
   "source": [
    "Import the mnist data set and ensure the data is shaped properly.\n",
    "The original data is a (28, 28) pixel greyscale image. We need to flatten it for the network.\n",
    "Need a 1 dimensional array for the input (784, ) and a 1 dimensional array for the output (10,) but we have 60,000 data points. So we end up with (60000, 784) and (60000, 10)"
   ]
  },
  {
   "cell_type": "code",
   "execution_count": 2,
   "metadata": {},
   "outputs": [],
   "source": [
    "num_classes = 10\n",
    "(x_train, y_train), (x_test, y_test) = mnist.load_data()\n",
    "x_train = x_train.reshape(x_train.shape[0], x_train.shape[1] * x_train.shape[2])\n",
    "x_test = x_test.reshape(x_test.shape[0], x_test.shape[1] * x_test.shape[2])\n",
    "y_train = keras.utils.to_categorical(y_train, num_classes)\n",
    "y_test = keras.utils.to_categorical(y_test, num_classes)"
   ]
  },
  {
   "cell_type": "markdown",
   "metadata": {},
   "source": [
    "Just to show you what the data looks like"
   ]
  },
  {
   "cell_type": "code",
   "execution_count": 3,
   "metadata": {},
   "outputs": [
    {
     "data": {
      "image/png": "[encoded data removed]",
      "text/plain": [
       "<Figure size 432x288 with 1 Axes>"
      ]
     },
     "metadata": {},
     "output_type": "display_data"
    }
   ],
   "source": [
    "plot.imshow(x_train[0].reshape(28, 28), cmap='gray')\n",
    "plot.show()"
   ]
  },
  {
   "cell_type": "markdown",
   "metadata": {},
   "source": [
    "We are using a fully connected feed forward neural network - \"Sequential\" makes it feed forward, \"Dense\" makes it fully connected.\n",
    "\n",
    "We're using a relu (rectified linear units)[https://en.wikipedia.org/wiki/Rectifier_(neural_networks)] activation in the hidden layer - it's often recommended for hidden layers in image based problems - not sure why :P\n",
    "\n",
    "We're using softmax in the final layer - it's similar to relu. For some reason, if you replace softmax with relu then the loss will be nan most of the time - not sure why\n",
    "\n",
    "Categorical Crossentropy [https://rdipietro.github.io/friendly-intro-to-cross-entropy-loss/] is used as the loss function. I think it's the de-facto loss function for categorisation problems. MSE is used in linear regression but is not suitable for categorisation\n",
    "\n",
    "The optimizer is RMSProp - Stochastic Gradient Descent caused problems for some reason\n",
    "\n",
    "Accuracy is added as a metric - it is simply the percentage of the training set that it guesses correctly. A random guesser we would expect to get 0.1 accuracy. A human, close to 1 accuracy"
   ]
  },
  {
   "cell_type": "code",
   "execution_count": 4,
   "metadata": {},
   "outputs": [],
   "source": [
    "model = Sequential()\n",
    "model.add(Dense(64, activation=\"relu\", input_shape=x_train.shape[1:]))\n",
    "model.add(Dense(10, activation=\"softmax\"))\n",
    "model.compile(loss=\"categorical_crossentropy\",\n",
    "              optimizer=\"Adam\",\n",
    "             metrics=[\"accuracy\"])"
   ]
  },
  {
   "cell_type": "code",
   "execution_count": 5,
   "metadata": {},
   "outputs": [
    {
     "name": "stdout",
     "output_type": "stream",
     "text": [
      "Epoch 1/100\n",
      "60000/60000 [==============================] - 20s 337us/step - loss: 10.4486 - acc: 0.3507\n",
      "Epoch 2/100\n",
      "60000/60000 [==============================] - 15s 245us/step - loss: 9.2087 - acc: 0.4279\n",
      "Epoch 3/100\n",
      "60000/60000 [==============================] - 15s 250us/step - loss: 8.9015 - acc: 0.4470\n",
      "Epoch 4/100\n",
      "60000/60000 [==============================] - 14s 241us/step - loss: 8.7020 - acc: 0.4596\n",
      "Epoch 5/100\n",
      "60000/60000 [==============================] - 16s 274us/step - loss: 8.6468 - acc: 0.46320s - loss: 8.6494 - acc: 0\n",
      "Epoch 6/100\n",
      "60000/60000 [==============================] - 14s 236us/step - loss: 7.6542 - acc: 0.5244\n",
      "Epoch 7/100\n",
      "60000/60000 [==============================] - 14s 235us/step - loss: 7.3192 - acc: 0.5454\n",
      "Epoch 8/100\n",
      "60000/60000 [==============================] - 14s 226us/step - loss: 7.2140 - acc: 0.5520\n",
      "Epoch 9/100\n",
      "60000/60000 [==============================] - 14s 226us/step - loss: 7.1880 - acc: 0.5538\n",
      "Epoch 10/100\n",
      "60000/60000 [==============================] - 14s 225us/step - loss: 7.1334 - acc: 0.5573\n",
      "Epoch 11/100\n",
      "60000/60000 [==============================] - 13s 224us/step - loss: 7.0913 - acc: 0.5598\n",
      "Epoch 12/100\n",
      "60000/60000 [==============================] - 13s 221us/step - loss: 7.1439 - acc: 0.5565\n",
      "Epoch 13/100\n",
      "60000/60000 [==============================] - 14s 229us/step - loss: 7.0786 - acc: 0.5606\n",
      "Epoch 14/100\n",
      "60000/60000 [==============================] - 14s 227us/step - loss: 7.0372 - acc: 0.5631\n",
      "Epoch 15/100\n",
      "60000/60000 [==============================] - 13s 225us/step - loss: 7.0254 - acc: 0.5638\n",
      "Epoch 16/100\n",
      "60000/60000 [==============================] - 13s 224us/step - loss: 7.1321 - acc: 0.5573\n",
      "Epoch 17/100\n",
      "60000/60000 [==============================] - 14s 231us/step - loss: 7.0914 - acc: 0.5599\n",
      "Epoch 18/100\n",
      "60000/60000 [==============================] - 14s 227us/step - loss: 7.0444 - acc: 0.5627\n",
      "Epoch 19/100\n",
      "60000/60000 [==============================] - 14s 226us/step - loss: 7.0155 - acc: 0.5646\n",
      "Epoch 20/100\n",
      "60000/60000 [==============================] - 13s 223us/step - loss: 7.0451 - acc: 0.5627\n",
      "Epoch 21/100\n",
      "60000/60000 [==============================] - 13s 220us/step - loss: 6.9627 - acc: 0.5678\n",
      "Epoch 22/100\n",
      "60000/60000 [==============================] - 13s 216us/step - loss: 6.9381 - acc: 0.5694\n",
      "Epoch 23/100\n",
      "60000/60000 [==============================] - 14s 226us/step - loss: 6.9662 - acc: 0.5676\n",
      "Epoch 24/100\n",
      "60000/60000 [==============================] - 13s 210us/step - loss: 6.9519 - acc: 0.5685\n",
      "Epoch 25/100\n",
      "60000/60000 [==============================] - 12s 201us/step - loss: 6.9666 - acc: 0.5676\n",
      "Epoch 26/100\n",
      "60000/60000 [==============================] - 13s 209us/step - loss: 7.0120 - acc: 0.5647\n",
      "Epoch 27/100\n",
      "60000/60000 [==============================] - 14s 226us/step - loss: 6.9482 - acc: 0.5687\n",
      "Epoch 28/100\n",
      "60000/60000 [==============================] - 13s 217us/step - loss: 6.9327 - acc: 0.5698\n",
      "Epoch 29/100\n",
      "60000/60000 [==============================] - 13s 219us/step - loss: 6.8750 - acc: 0.5733\n",
      "Epoch 30/100\n",
      "60000/60000 [==============================] - 13s 217us/step - loss: 6.9710 - acc: 0.5674\n",
      "Epoch 31/100\n",
      "60000/60000 [==============================] - 13s 221us/step - loss: 6.9478 - acc: 0.5688\n",
      "Epoch 32/100\n",
      "60000/60000 [==============================] - 13s 222us/step - loss: 6.8944 - acc: 0.57210s - loss: 6.9\n",
      "Epoch 33/100\n",
      "60000/60000 [==============================] - 13s 220us/step - loss: 6.9287 - acc: 0.5700\n",
      "Epoch 34/100\n",
      "60000/60000 [==============================] - 14s 228us/step - loss: 6.9544 - acc: 0.5684\n",
      "Epoch 35/100\n",
      "60000/60000 [==============================] - 13s 217us/step - loss: 6.9536 - acc: 0.5684\n",
      "Epoch 36/100\n",
      "60000/60000 [==============================] - 14s 225us/step - loss: 6.9409 - acc: 0.5693\n",
      "Epoch 37/100\n",
      "60000/60000 [==============================] - 14s 227us/step - loss: 6.9006 - acc: 0.5717\n",
      "Epoch 38/100\n",
      "60000/60000 [==============================] - 14s 226us/step - loss: 6.8938 - acc: 0.5721\n",
      "Epoch 39/100\n",
      "60000/60000 [==============================] - 14s 228us/step - loss: 6.8202 - acc: 0.5768\n",
      "Epoch 40/100\n",
      "60000/60000 [==============================] - 13s 216us/step - loss: 6.9434 - acc: 0.5691\n",
      "Epoch 41/100\n",
      "60000/60000 [==============================] - 13s 223us/step - loss: 6.9166 - acc: 0.57071s - lo\n",
      "Epoch 42/100\n",
      "60000/60000 [==============================] - 13s 222us/step - loss: 6.8488 - acc: 0.5750\n",
      "Epoch 43/100\n",
      "60000/60000 [==============================] - 13s 217us/step - loss: 6.9373 - acc: 0.5695\n",
      "Epoch 44/100\n",
      "60000/60000 [==============================] - 13s 224us/step - loss: 6.9447 - acc: 0.5690\n",
      "Epoch 45/100\n",
      "60000/60000 [==============================] - 13s 222us/step - loss: 6.9242 - acc: 0.5703\n",
      "Epoch 46/100\n",
      "60000/60000 [==============================] - 14s 231us/step - loss: 6.9161 - acc: 0.5708\n",
      "Epoch 47/100\n",
      "60000/60000 [==============================] - 13s 217us/step - loss: 6.8814 - acc: 0.5730\n",
      "Epoch 48/100\n",
      "60000/60000 [==============================] - 13s 221us/step - loss: 6.8840 - acc: 0.5728\n",
      "Epoch 49/100\n",
      "60000/60000 [==============================] - 13s 220us/step - loss: 6.9281 - acc: 0.5700\n",
      "Epoch 50/100\n",
      "60000/60000 [==============================] - 13s 221us/step - loss: 6.8726 - acc: 0.5735\n",
      "Epoch 51/100\n",
      "60000/60000 [==============================] - 13s 219us/step - loss: 6.9431 - acc: 0.5691\n",
      "Epoch 52/100\n",
      "60000/60000 [==============================] - 13s 214us/step - loss: 6.8516 - acc: 0.5748\n",
      "Epoch 53/100\n",
      "60000/60000 [==============================] - 13s 212us/step - loss: 6.8343 - acc: 0.5759\n",
      "Epoch 54/100\n",
      "60000/60000 [==============================] - 13s 210us/step - loss: 6.8608 - acc: 0.5742\n",
      "Epoch 55/100\n",
      "60000/60000 [==============================] - 13s 214us/step - loss: 6.8552 - acc: 0.5746\n",
      "Epoch 56/100\n",
      "60000/60000 [==============================] - 1808s 30ms/step - loss: 6.8389 - acc: 0.5756\n",
      "Epoch 57/100\n",
      "60000/60000 [==============================] - 23s 389us/step - loss: 6.9102 - acc: 0.5711\n",
      "Epoch 58/100\n",
      "60000/60000 [==============================] - 18s 308us/step - loss: 6.8328 - acc: 0.5759\n",
      "Epoch 59/100\n",
      "60000/60000 [==============================] - 18s 306us/step - loss: 6.8181 - acc: 0.5769\n",
      "Epoch 60/100\n",
      "60000/60000 [==============================] - 19s 311us/step - loss: 6.9306 - acc: 0.5699\n",
      "Epoch 61/100\n",
      "60000/60000 [==============================] - 18s 300us/step - loss: 6.8404 - acc: 0.5754\n",
      "Epoch 62/100\n",
      "60000/60000 [==============================] - 18s 308us/step - loss: 6.8164 - acc: 0.5771\n",
      "Epoch 63/100\n",
      "60000/60000 [==============================] - 2098s 35ms/step - loss: 6.7865 - acc: 0.5789\n",
      "Epoch 64/100\n",
      "60000/60000 [==============================] - 12s 202us/step - loss: 6.8415 - acc: 0.5754\n",
      "Epoch 65/100\n",
      "60000/60000 [==============================] - 24s 402us/step - loss: 6.8588 - acc: 0.5744\n",
      "Epoch 66/100\n",
      "60000/60000 [==============================] - 1061s 18ms/step - loss: 6.8173 - acc: 0.57709s - loss: 6.8214\n",
      "Epoch 67/100\n",
      "60000/60000 [==============================] - 14s 232us/step - loss: 6.8342 - acc: 0.5759\n",
      "Epoch 68/100\n",
      "60000/60000 [==============================] - 13s 209us/step - loss: 6.9186 - acc: 0.5707\n",
      "Epoch 69/100\n",
      "60000/60000 [==============================] - 12s 193us/step - loss: 6.8677 - acc: 0.5738\n",
      "Epoch 70/100\n",
      "60000/60000 [==============================] - 14s 233us/step - loss: 6.8218 - acc: 0.5766\n",
      "Epoch 71/100\n",
      "60000/60000 [==============================] - 13s 224us/step - loss: 6.7640 - acc: 0.5803\n",
      "Epoch 72/100\n",
      "60000/60000 [==============================] - 13s 220us/step - loss: 6.8126 - acc: 0.5772\n",
      "Epoch 73/100\n",
      "60000/60000 [==============================] - 14s 227us/step - loss: 6.7618 - acc: 0.5804\n",
      "Epoch 74/100\n",
      "60000/60000 [==============================] - 14s 228us/step - loss: 6.7873 - acc: 0.5789\n",
      "Epoch 75/100\n",
      "60000/60000 [==============================] - 14s 226us/step - loss: 6.8089 - acc: 0.5775\n",
      "Epoch 76/100\n",
      "60000/60000 [==============================] - 14s 236us/step - loss: 6.9214 - acc: 0.5705\n",
      "Epoch 77/100\n",
      "60000/60000 [==============================] - 13s 220us/step - loss: 6.9223 - acc: 0.5704\n",
      "Epoch 78/100\n"
     ]
    },
    {
     "name": "stdout",
     "output_type": "stream",
     "text": [
      "60000/60000 [==============================] - 17s 291us/step - loss: 6.7896 - acc: 0.5787\n",
      "Epoch 79/100\n",
      "60000/60000 [==============================] - 13s 218us/step - loss: 6.7468 - acc: 0.5813\n",
      "Epoch 80/100\n",
      "60000/60000 [==============================] - 13s 225us/step - loss: 6.6444 - acc: 0.5876\n",
      "Epoch 81/100\n",
      "60000/60000 [==============================] - 15s 257us/step - loss: 5.7528 - acc: 0.6430\n",
      "Epoch 82/100\n",
      "60000/60000 [==============================] - 15s 255us/step - loss: 5.5553 - acc: 0.6551\n",
      "Epoch 83/100\n",
      "60000/60000 [==============================] - 13s 214us/step - loss: 5.4993 - acc: 0.6586\n",
      "Epoch 84/100\n",
      "60000/60000 [==============================] - 14s 236us/step - loss: 5.4179 - acc: 0.6637\n",
      "Epoch 85/100\n",
      "60000/60000 [==============================] - 14s 231us/step - loss: 5.3556 - acc: 0.6676\n",
      "Epoch 86/100\n",
      "60000/60000 [==============================] - 14s 233us/step - loss: 5.4354 - acc: 0.6627\n",
      "Epoch 87/100\n",
      "60000/60000 [==============================] - 15s 247us/step - loss: 5.3279 - acc: 0.6693\n",
      "Epoch 88/100\n",
      "60000/60000 [==============================] - 13s 219us/step - loss: 5.3396 - acc: 0.6686\n",
      "Epoch 89/100\n",
      "60000/60000 [==============================] - 14s 238us/step - loss: 5.3188 - acc: 0.6699\n",
      "Epoch 90/100\n",
      "60000/60000 [==============================] - 14s 236us/step - loss: 5.3146 - acc: 0.6701\n",
      "Epoch 91/100\n",
      "60000/60000 [==============================] - 10s 163us/step - loss: 5.3439 - acc: 0.6683\n",
      "Epoch 92/100\n",
      "60000/60000 [==============================] - 11s 177us/step - loss: 5.3286 - acc: 0.6693\n",
      "Epoch 93/100\n",
      "60000/60000 [==============================] - 8s 136us/step - loss: 5.4207 - acc: 0.6636\n",
      "Epoch 94/100\n",
      "60000/60000 [==============================] - 10s 163us/step - loss: 5.3120 - acc: 0.6703\n",
      "Epoch 95/100\n",
      "60000/60000 [==============================] - 10s 162us/step - loss: 5.3280 - acc: 0.6693\n",
      "Epoch 96/100\n",
      "60000/60000 [==============================] - 8s 130us/step - loss: 5.2517 - acc: 0.6741\n",
      "Epoch 97/100\n",
      "60000/60000 [==============================] - 8s 129us/step - loss: 5.2786 - acc: 0.6724\n",
      "Epoch 98/100\n",
      "60000/60000 [==============================] - 8s 139us/step - loss: 5.2669 - acc: 0.6731\n",
      "Epoch 99/100\n",
      "60000/60000 [==============================] - 9s 147us/step - loss: 5.2985 - acc: 0.6711\n",
      "Epoch 100/100\n",
      "60000/60000 [==============================] - 8s 141us/step - loss: 5.2656 - acc: 0.6732\n"
     ]
    },
    {
     "data": {
      "text/plain": [
       "<keras.callbacks.History at 0x106fb3e10>"
      ]
     },
     "execution_count": 5,
     "metadata": {},
     "output_type": "execute_result"
    }
   ],
   "source": [
    "model.fit(x_train, y_train, epochs=100)"
   ]
  },
  {
   "cell_type": "markdown",
   "metadata": {},
   "source": [
    "We evaluate the model against test data. If the accuracy and loss here are dramatically different to the training data, then we know that our model has overfitted to the training data and will not be useful in real world applications"
   ]
  },
  {
   "cell_type": "code",
   "execution_count": 6,
   "metadata": {},
   "outputs": [
    {
     "name": "stdout",
     "output_type": "stream",
     "text": [
      "10000/10000 [==============================] - 1s 90us/step\n"
     ]
    },
    {
     "data": {
      "text/plain": [
       "[5.2770789535522464, 0.67249999999999999]"
      ]
     },
     "execution_count": 6,
     "metadata": {},
     "output_type": "execute_result"
    }
   ],
   "source": [
    "model.evaluate(x_test, y_test)"
   ]
  },
  {
   "cell_type": "markdown",
   "metadata": {},
   "source": [
    "This is just a demonstration of the predictive abilities of the trained network - highlight it and hit ctrl+enter to run it against a new random member from the data set"
   ]
  },
  {
   "cell_type": "code",
   "execution_count": 12,
   "metadata": {},
   "outputs": [
    {
     "name": "stdout",
     "output_type": "stream",
     "text": [
      "Prediction:  5\n",
      "--------------\n"
     ]
    },
    {
     "data": {
      "image/png": "[encoded data removed]",
      "text/plain": [
       "<Figure size 432x288 with 1 Axes>"
      ]
     },
     "metadata": {},
     "output_type": "display_data"
    }
   ],
   "source": [
    "random_mnist_character = random.choice(x_train)\n",
    "result = np.argmax(model.predict(np.array([random_mnist_character])))\n",
    "print(\"Prediction: \", result)\n",
    "print(\"--------------\")\n",
    "\n",
    "plot.imshow(random_mnist_character.reshape(28,28), cmap='gray')\n",
    "plot.show()"
   ]
  },
  {
   "cell_type": "markdown",
   "metadata": {},
   "source": [
    "Here is a bunch of quick comparisons of different optimizers. Lower loss, higher accuracy is better."
   ]
  },
  {
   "cell_type": "code",
   "execution_count": 8,
   "metadata": {},
   "outputs": [
    {
     "name": "stdout",
     "output_type": "stream",
     "text": [
      "Epoch 1/10\n",
      "60000/60000 [==============================] - 10s 160us/step - loss: 9.6918 - acc: 0.3963\n",
      "Epoch 2/10\n",
      "60000/60000 [==============================] - 9s 154us/step - loss: 7.1460 - acc: 0.5549\n",
      "Epoch 3/10\n",
      "60000/60000 [==============================] - 9s 146us/step - loss: 7.0025 - acc: 0.5642\n",
      "Epoch 4/10\n",
      "60000/60000 [==============================] - 8s 135us/step - loss: 6.9437 - acc: 0.5680\n",
      "Epoch 5/10\n",
      "60000/60000 [==============================] - 9s 142us/step - loss: 6.8591 - acc: 0.5734\n",
      "Epoch 6/10\n",
      "60000/60000 [==============================] - 9s 148us/step - loss: 6.8346 - acc: 0.5750\n",
      "Epoch 7/10\n",
      "60000/60000 [==============================] - 9s 147us/step - loss: 6.7897 - acc: 0.5780\n",
      "Epoch 8/10\n",
      "60000/60000 [==============================] - 11s 177us/step - loss: 6.7977 - acc: 0.5774\n",
      "Epoch 9/10\n",
      "60000/60000 [==============================] - 11s 188us/step - loss: 6.7291 - acc: 0.5817\n",
      "Epoch 10/10\n",
      "60000/60000 [==============================] - 9s 157us/step - loss: 6.7246 - acc: 0.5819\n",
      "10000/10000 [==============================] - 1s 108us/step\n",
      "loss:  6.65426273804\n",
      "accuracy:  0.5868\n"
     ]
    }
   ],
   "source": [
    "# Root Mean Square Propagation\n",
    "model = Sequential()\n",
    "model.add(Dense(64, activation=\"relu\", input_shape=x_train.shape[1:]))\n",
    "model.add(Dense(10, activation=\"softmax\"))\n",
    "model.compile(loss=\"categorical_crossentropy\",\n",
    "              optimizer=\"RMSProp\",\n",
    "             metrics=[\"accuracy\"])\n",
    "\n",
    "model.fit(x_train, y_train, epochs=10)\n",
    "\n",
    "result = model.evaluate(x_test, y_test)\n",
    "print(\"loss: \", result[0])\n",
    "print(\"accuracy: \", result[1])"
   ]
  },
  {
   "cell_type": "code",
   "execution_count": 9,
   "metadata": {},
   "outputs": [
    {
     "name": "stdout",
     "output_type": "stream",
     "text": [
      "Epoch 1/10\n",
      "60000/60000 [==============================] - 9s 153us/step - loss: 13.7503 - acc: 0.1468\n",
      "Epoch 2/10\n",
      "60000/60000 [==============================] - 9s 147us/step - loss: 13.3097 - acc: 0.1742\n",
      "Epoch 3/10\n",
      "60000/60000 [==============================] - 9s 153us/step - loss: 13.2397 - acc: 0.1786\n",
      "Epoch 4/10\n",
      "60000/60000 [==============================] - 8s 138us/step - loss: 13.3016 - acc: 0.1747\n",
      "Epoch 5/10\n",
      "60000/60000 [==============================] - 9s 143us/step - loss: 13.5371 - acc: 0.1601\n",
      "Epoch 6/10\n",
      "60000/60000 [==============================] - 9s 150us/step - loss: 13.2819 - acc: 0.1759\n",
      "Epoch 7/10\n",
      "60000/60000 [==============================] - 8s 138us/step - loss: 13.2061 - acc: 0.1807\n",
      "Epoch 8/10\n",
      "60000/60000 [==============================] - 8s 140us/step - loss: 13.6026 - acc: 0.1560\n",
      "Epoch 9/10\n",
      "60000/60000 [==============================] - 9s 157us/step - loss: 13.6476 - acc: 0.1533\n",
      "Epoch 10/10\n",
      "60000/60000 [==============================] - 8s 141us/step - loss: 14.0802 - acc: 0.1264\n",
      "10000/10000 [==============================] - 1s 81us/step\n",
      "loss:  14.0423183701\n",
      "accuracy:  0.1287\n"
     ]
    }
   ],
   "source": [
    "# Stochastic Gradient Descent\n",
    "model = Sequential()\n",
    "model.add(Dense(64, activation=\"relu\", input_shape=x_train.shape[1:]))\n",
    "model.add(Dense(10, activation=\"softmax\"))\n",
    "model.compile(loss=\"categorical_crossentropy\",\n",
    "              optimizer=\"sgd\",\n",
    "             metrics=[\"accuracy\"])\n",
    "\n",
    "model.fit(x_train, y_train, epochs=10)\n",
    "\n",
    "result = model.evaluate(x_test, y_test)\n",
    "print(\"loss: \", result[0])\n",
    "print(\"accuracy: \", result[1])"
   ]
  },
  {
   "cell_type": "code",
   "execution_count": 10,
   "metadata": {},
   "outputs": [
    {
     "name": "stdout",
     "output_type": "stream",
     "text": [
      "Epoch 1/10\n",
      "60000/60000 [==============================] - 9s 156us/step - loss: 6.0552 - acc: 0.6187\n",
      "Epoch 2/10\n",
      "60000/60000 [==============================] - 9s 143us/step - loss: 4.6836 - acc: 0.7066\n",
      "Epoch 3/10\n",
      "60000/60000 [==============================] - 8s 128us/step - loss: 3.7277 - acc: 0.7656\n",
      "Epoch 4/10\n",
      "60000/60000 [==============================] - 8s 140us/step - loss: 2.9282 - acc: 0.8163\n",
      "Epoch 5/10\n",
      "60000/60000 [==============================] - 9s 151us/step - loss: 2.8776 - acc: 0.8194\n",
      "Epoch 6/10\n",
      "60000/60000 [==============================] - 9s 150us/step - loss: 2.8187 - acc: 0.8236\n",
      "Epoch 7/10\n",
      "60000/60000 [==============================] - 12s 194us/step - loss: 2.8173 - acc: 0.8236\n",
      "Epoch 8/10\n",
      "60000/60000 [==============================] - 9s 152us/step - loss: 2.7111 - acc: 0.8306\n",
      "Epoch 9/10\n",
      "60000/60000 [==============================] - 3s 57us/step - loss: 2.7452 - acc: 0.8286\n",
      "Epoch 10/10\n",
      "60000/60000 [==============================] - 5s 75us/step - loss: 2.7143 - acc: 0.8305\n",
      "10000/10000 [==============================] - 0s 39us/step\n",
      "loss:  2.60097916279\n",
      "accuracy:  0.8376\n"
     ]
    }
   ],
   "source": [
    "# Adaptive Moment Estimation\n",
    "model = Sequential()\n",
    "model.add(Dense(64, activation=\"relu\", input_shape=x_train.shape[1:]))\n",
    "model.add(Dense(10, activation=\"softmax\"))\n",
    "model.compile(loss=\"categorical_crossentropy\",\n",
    "              optimizer=\"Adam\",\n",
    "             metrics=[\"accuracy\"])\n",
    "\n",
    "model.fit(x_train, y_train, epochs=10)\n",
    "\n",
    "result = model.evaluate(x_test, y_test)\n",
    "print(\"loss: \", result[0])\n",
    "print(\"accuracy: \", result[1])"
   ]
  }
 ],
 "metadata": {
  "kernelspec": {
   "display_name": "Python 3",
   "language": "python",
   "name": "python3"
  },
  "language_info": {
   "codemirror_mode": {
    "name": "ipython",
    "version": 3
   },
   "file_extension": ".py",
   "mimetype": "text/x-python",
   "name": "python",
   "nbconvert_exporter": "python",
   "pygments_lexer": "ipython3",
   "version": "3.6.4"
  }
 },
 "nbformat": 4,
 "nbformat_minor": 2
}
