{
 "cells": [
  {
   "cell_type": "markdown",
   "metadata": {},
   "source": [
    "need to install all these dependencies\n",
    "pip/pip3 install keras\n",
    "pip/pip3 install matplotlib\n",
    "pip/pip3 install numpy\n",
    "pip/pip3 install tensorflow"
   ]
  },
  {
   "cell_type": "code",
   "execution_count": 1,
   "metadata": {},
   "outputs": [
    {
     "name": "stderr",
     "output_type": "stream",
     "text": [
      "Using TensorFlow backend.\n"
     ]
    }
   ],
   "source": [
    "import keras\n",
    "from keras.models import Sequential\n",
    "from keras.datasets import mnist\n",
    "from keras.layers import Dense\n",
    "import matplotlib.pyplot as plot\n",
    "import numpy as np\n",
    "import random\n",
    "import time"
   ]
  },
  {
   "cell_type": "markdown",
   "metadata": {},
   "source": [
    "Import the mnist data set and ensure the data is shaped properly.\n",
    "The original data is a (28, 28) pixel greyscale image. We need to flatten it for the network.\n",
    "Need a 1 dimensional array for the input (784, ) and a 1 dimensional array for the output (10,) but we have 60,000 data points. So we end up with (60000, 784) and (60000, 10)"
   ]
  },
  {
   "cell_type": "code",
   "execution_count": 2,
   "metadata": {},
   "outputs": [],
   "source": [
    "num_classes = 10\n",
    "(x_train, y_train), (x_test, y_test) = mnist.load_data()\n",
    "x_train = x_train.reshape(x_train.shape[0], x_train.shape[1] * x_train.shape[2])\n",
    "x_test = x_test.reshape(x_test.shape[0], x_test.shape[1] * x_test.shape[2])\n",
    "y_train = keras.utils.to_categorical(y_train, num_classes)\n",
    "y_test = keras.utils.to_categorical(y_test, num_classes)"
   ]
  },
  {
   "cell_type": "markdown",
   "metadata": {},
   "source": [
    "Just to show you what the data looks like"
   ]
  },
  {
   "cell_type": "code",
   "execution_count": 3,
   "metadata": {},
   "outputs": [
    {
     "data": {
      "image/png": "[encoded data removed]",
      "text/plain": [
       "<Figure size 432x288 with 1 Axes>"
      ]
     },
     "metadata": {},
     "output_type": "display_data"
    }
   ],
   "source": [
    "plot.imshow(x_train[0].reshape(28, 28), cmap='gray')\n",
    "plot.show()"
   ]
  },
  {
   "cell_type": "markdown",
   "metadata": {},
   "source": [
    "We are using a fully connected feed forward neural network - \"Sequential\" makes it feed forward, \"Dense\" makes it fully connected.\n",
    "\n",
    "We're using a relu (rectified linear units)[https://en.wikipedia.org/wiki/Rectifier_(neural_networks)] activation in the hidden layer - it's often recommended for hidden layers in image based problems - not sure why :P\n",
    "\n",
    "We're using softmax in the final layer - it's similar to relu. For some reason, if you replace softmax with relu then the loss will be nan most of the time - not sure why\n",
    "\n",
    "Categorical Crossentropy [https://rdipietro.github.io/friendly-intro-to-cross-entropy-loss/] is used as the loss function. I think it's the de-facto loss function for categorisation problems. MSE is used in linear regression but is not suitable for categorisation\n",
    "\n",
    "The optimizer is RMSProp - Stochastic Gradient Descent caused problems for some reason\n",
    "\n",
    "Accuracy is added as a metric - it is simply the percentage of the training set that it guesses correctly. A random guesser we would expect to get 0.1 accuracy. A human, close to 1 accuracy"
   ]
  },
  {
   "cell_type": "code",
   "execution_count": 4,
   "metadata": {},
   "outputs": [],
   "source": [
    "model = Sequential()\n",
    "model.add(Dense(64, activation=\"relu\", input_shape=x_train.shape[1:]))\n",
    "model.add(Dense(10, activation=\"softmax\"))\n",
    "model.compile(loss=\"categorical_crossentropy\",\n",
    "              optimizer=\"RMSProp\",\n",
    "             metrics=[\"accuracy\"])"
   ]
  },
  {
   "cell_type": "code",
   "execution_count": 5,
   "metadata": {},
   "outputs": [
    {
     "name": "stdout",
     "output_type": "stream",
     "text": [
      "Epoch 1/50\n",
      "60000/60000 [==============================] - 4s 62us/step - loss: 5.7192 - acc: 0.6370\n",
      "Epoch 2/50\n",
      "60000/60000 [==============================] - 3s 58us/step - loss: 3.6193 - acc: 0.7702\n",
      "Epoch 3/50\n",
      "60000/60000 [==============================] - 4s 60us/step - loss: 3.2704 - acc: 0.7934\n",
      "Epoch 4/50\n",
      "60000/60000 [==============================] - 4s 60us/step - loss: 3.1258 - acc: 0.8029\n",
      "Epoch 5/50\n",
      "60000/60000 [==============================] - 3s 50us/step - loss: 3.0208 - acc: 0.8097\n",
      "Epoch 6/50\n",
      "60000/60000 [==============================] - 4s 64us/step - loss: 3.0040 - acc: 0.8111\n",
      "Epoch 7/50\n",
      "60000/60000 [==============================] - 3s 48us/step - loss: 2.9351 - acc: 0.8157\n",
      "Epoch 8/50\n",
      "60000/60000 [==============================] - 3s 51us/step - loss: 2.8830 - acc: 0.8190\n",
      "Epoch 9/50\n",
      "60000/60000 [==============================] - 3s 54us/step - loss: 2.8289 - acc: 0.8223\n",
      "Epoch 10/50\n",
      "60000/60000 [==============================] - 3s 51us/step - loss: 2.7951 - acc: 0.8246\n",
      "Epoch 11/50\n",
      "60000/60000 [==============================] - 3s 50us/step - loss: 2.8286 - acc: 0.8225\n",
      "Epoch 12/50\n",
      "60000/60000 [==============================] - 3s 49us/step - loss: 2.7241 - acc: 0.8291\n",
      "Epoch 13/50\n",
      "60000/60000 [==============================] - 3s 51us/step - loss: 2.7134 - acc: 0.8299\n",
      "Epoch 14/50\n",
      "60000/60000 [==============================] - 3s 52us/step - loss: 2.6588 - acc: 0.8334\n",
      "Epoch 15/50\n",
      "60000/60000 [==============================] - 4s 60us/step - loss: 2.6715 - acc: 0.8328: \n",
      "Epoch 16/50\n",
      "60000/60000 [==============================] - 3s 53us/step - loss: 2.6760 - acc: 0.8325\n",
      "Epoch 17/50\n",
      "60000/60000 [==============================] - 3s 52us/step - loss: 2.6413 - acc: 0.8347\n",
      "Epoch 18/50\n",
      "60000/60000 [==============================] - 3s 49us/step - loss: 2.6593 - acc: 0.8335\n",
      "Epoch 19/50\n",
      "60000/60000 [==============================] - 3s 48us/step - loss: 2.5961 - acc: 0.8376\n",
      "Epoch 20/50\n",
      "60000/60000 [==============================] - 3s 55us/step - loss: 2.6055 - acc: 0.8372\n",
      "Epoch 21/50\n",
      "60000/60000 [==============================] - 3s 56us/step - loss: 2.5872 - acc: 0.8381\n",
      "Epoch 22/50\n",
      "60000/60000 [==============================] - 3s 51us/step - loss: 2.5808 - acc: 0.8386\n",
      "Epoch 23/50\n",
      "60000/60000 [==============================] - 3s 55us/step - loss: 2.5773 - acc: 0.8389\n",
      "Epoch 24/50\n",
      "60000/60000 [==============================] - 3s 53us/step - loss: 2.5473 - acc: 0.8408\n",
      "Epoch 25/50\n",
      "60000/60000 [==============================] - 4s 64us/step - loss: 2.5701 - acc: 0.8395\n",
      "Epoch 26/50\n",
      "60000/60000 [==============================] - 3s 56us/step - loss: 2.5376 - acc: 0.8412\n",
      "Epoch 27/50\n",
      "60000/60000 [==============================] - 3s 47us/step - loss: 2.5578 - acc: 0.8400\n",
      "Epoch 28/50\n",
      "60000/60000 [==============================] - 3s 47us/step - loss: 2.5637 - acc: 0.8397\n",
      "Epoch 29/50\n",
      "60000/60000 [==============================] - 3s 49us/step - loss: 2.5184 - acc: 0.8427\n",
      "Epoch 30/50\n",
      "60000/60000 [==============================] - 3s 51us/step - loss: 2.1495 - acc: 0.8652\n",
      "Epoch 31/50\n",
      "60000/60000 [==============================] - 3s 55us/step - loss: 0.8642 - acc: 0.9450\n",
      "Epoch 32/50\n",
      "60000/60000 [==============================] - 3s 55us/step - loss: 0.8647 - acc: 0.9449\n",
      "Epoch 33/50\n",
      "60000/60000 [==============================] - 3s 56us/step - loss: 0.8221 - acc: 0.9477\n",
      "Epoch 34/50\n",
      "60000/60000 [==============================] - 3s 51us/step - loss: 0.8280 - acc: 0.9473\n",
      "Epoch 35/50\n",
      "60000/60000 [==============================] - 3s 56us/step - loss: 0.8136 - acc: 0.9484: 0s - loss: 0.8132 - acc: \n",
      "Epoch 36/50\n",
      "60000/60000 [==============================] - 4s 61us/step - loss: 0.7754 - acc: 0.9507\n",
      "Epoch 37/50\n",
      "60000/60000 [==============================] - 3s 52us/step - loss: 0.7940 - acc: 0.9495\n",
      "Epoch 38/50\n",
      "60000/60000 [==============================] - 3s 48us/step - loss: 0.7967 - acc: 0.9495\n",
      "Epoch 39/50\n",
      "60000/60000 [==============================] - 3s 47us/step - loss: 0.7963 - acc: 0.9496\n",
      "Epoch 40/50\n",
      "60000/60000 [==============================] - 3s 47us/step - loss: 0.7593 - acc: 0.9517\n",
      "Epoch 41/50\n",
      "60000/60000 [==============================] - 3s 47us/step - loss: 0.7384 - acc: 0.9531\n",
      "Epoch 42/50\n",
      "60000/60000 [==============================] - 3s 47us/step - loss: 0.7379 - acc: 0.9532\n",
      "Epoch 43/50\n",
      "60000/60000 [==============================] - 3s 47us/step - loss: 0.7866 - acc: 0.9503\n",
      "Epoch 44/50\n",
      "60000/60000 [==============================] - 3s 47us/step - loss: 0.7552 - acc: 0.9521\n",
      "Epoch 45/50\n",
      "60000/60000 [==============================] - 3s 48us/step - loss: 0.7322 - acc: 0.9536\n",
      "Epoch 46/50\n",
      "60000/60000 [==============================] - 3s 47us/step - loss: 0.7272 - acc: 0.9539\n",
      "Epoch 47/50\n",
      "60000/60000 [==============================] - 3s 47us/step - loss: 0.7724 - acc: 0.9512\n",
      "Epoch 48/50\n",
      "60000/60000 [==============================] - 3s 50us/step - loss: 0.7344 - acc: 0.9535\n",
      "Epoch 49/50\n",
      "60000/60000 [==============================] - 3s 49us/step - loss: 0.7245 - acc: 0.9541\n",
      "Epoch 50/50\n",
      "60000/60000 [==============================] - 4s 59us/step - loss: 0.7003 - acc: 0.9558\n"
     ]
    },
    {
     "data": {
      "text/plain": [
       "<keras.callbacks.History at 0x11c464780>"
      ]
     },
     "execution_count": 5,
     "metadata": {},
     "output_type": "execute_result"
    }
   ],
   "source": [
    "model.fit(x_train, y_train, epochs=50)"
   ]
  },
  {
   "cell_type": "markdown",
   "metadata": {},
   "source": [
    "We evaluate the model against test data. If the accuracy and loss here are dramatically different to the training data, then we know that our model has overfitted to the training data and will not be useful in real world applications"
   ]
  },
  {
   "cell_type": "code",
   "execution_count": 6,
   "metadata": {},
   "outputs": [
    {
     "name": "stdout",
     "output_type": "stream",
     "text": [
      "10000/10000 [==============================] - 0s 36us/step\n"
     ]
    },
    {
     "data": {
      "text/plain": [
       "[0.89404272279227148, 0.94369999999999998]"
      ]
     },
     "execution_count": 6,
     "metadata": {},
     "output_type": "execute_result"
    }
   ],
   "source": [
    "model.evaluate(x_test, y_test)"
   ]
  },
  {
   "cell_type": "markdown",
   "metadata": {},
   "source": [
    "This is just a demonstration of the predictive abilities of the trained network - highlight it and hit ctrl+enter to run it against a new random member from the data set"
   ]
  },
  {
   "cell_type": "code",
   "execution_count": 7,
   "metadata": {},
   "outputs": [
    {
     "name": "stdout",
     "output_type": "stream",
     "text": [
      "Prediction:  2\n",
      "--------------\n"
     ]
    },
    {
     "data": {
      "image/png": "[encoded data removed]",
      "text/plain": [
       "<Figure size 432x288 with 1 Axes>"
      ]
     },
     "metadata": {},
     "output_type": "display_data"
    }
   ],
   "source": [
    "random_mnist_character = random.choice(x_train)\n",
    "result = np.argmax(model.predict(np.array([random_mnist_character])))\n",
    "print(\"Prediction: \", result)\n",
    "print(\"--------------\")\n",
    "\n",
    "plot.imshow(random_mnist_character.reshape(28,28), cmap='gray')\n",
    "plot.show()"
   ]
  },
  {
   "cell_type": "markdown",
   "metadata": {},
   "source": [
    "Here is a bunch of quick comparisons of different optimizers. Lower loss, higher accuracy is better."
   ]
  },
  {
   "cell_type": "code",
   "execution_count": 8,
   "metadata": {},
   "outputs": [
    {
     "name": "stdout",
     "output_type": "stream",
     "text": [
      "Epoch 1/10\n",
      "60000/60000 [==============================] - 4s 61us/step - loss: 7.3478 - acc: 0.5398\n",
      "Epoch 2/10\n",
      "60000/60000 [==============================] - 3s 57us/step - loss: 3.1768 - acc: 0.7992\n",
      "Epoch 3/10\n",
      "60000/60000 [==============================] - 3s 57us/step - loss: 2.8949 - acc: 0.8176\n",
      "Epoch 4/10\n",
      "60000/60000 [==============================] - 4s 61us/step - loss: 2.8092 - acc: 0.8235: 0s - los\n",
      "Epoch 5/10\n",
      "60000/60000 [==============================] - 4s 66us/step - loss: 2.6950 - acc: 0.8312\n",
      "Epoch 6/10\n",
      "60000/60000 [==============================] - 4s 63us/step - loss: 2.6723 - acc: 0.8325\n",
      "Epoch 7/10\n",
      "60000/60000 [==============================] - 3s 53us/step - loss: 2.6247 - acc: 0.8358\n",
      "Epoch 8/10\n",
      "60000/60000 [==============================] - 3s 49us/step - loss: 2.5949 - acc: 0.8376\n",
      "Epoch 9/10\n",
      "60000/60000 [==============================] - 3s 52us/step - loss: 2.5550 - acc: 0.8402\n",
      "Epoch 10/10\n",
      "60000/60000 [==============================] - 3s 51us/step - loss: 2.5317 - acc: 0.8418\n",
      "10000/10000 [==============================] - 0s 23us/step\n",
      "loss:  2.44165601139\n",
      "accuracy:  0.8479\n"
     ]
    }
   ],
   "source": [
    "# Root Mean Square Propagation\n",
    "model = Sequential()\n",
    "model.add(Dense(64, activation=\"relu\", input_shape=x_train.shape[1:]))\n",
    "model.add(Dense(10, activation=\"softmax\"))\n",
    "model.compile(loss=\"categorical_crossentropy\",\n",
    "              optimizer=\"RMSProp\",\n",
    "             metrics=[\"accuracy\"])\n",
    "\n",
    "model.fit(x_train, y_train, epochs=10)\n",
    "\n",
    "result = model.evaluate(x_test, y_test)\n",
    "print(\"loss: \", result[0])\n",
    "print(\"accuracy: \", result[1])"
   ]
  },
  {
   "cell_type": "code",
   "execution_count": 9,
   "metadata": {},
   "outputs": [
    {
     "name": "stdout",
     "output_type": "stream",
     "text": [
      "Epoch 1/10\n",
      "60000/60000 [==============================] - 3s 54us/step - loss: 14.5251 - acc: 0.0988\n",
      "Epoch 2/10\n",
      "60000/60000 [==============================] - 3s 46us/step - loss: 14.5280 - acc: 0.0987\n",
      "Epoch 3/10\n",
      "60000/60000 [==============================] - 3s 45us/step - loss: 14.5280 - acc: 0.0987\n",
      "Epoch 4/10\n",
      "60000/60000 [==============================] - 3s 45us/step - loss: 14.5280 - acc: 0.0987\n",
      "Epoch 5/10\n",
      "60000/60000 [==============================] - 3s 49us/step - loss: 14.5280 - acc: 0.0987\n",
      "Epoch 6/10\n",
      "60000/60000 [==============================] - 3s 45us/step - loss: 14.5280 - acc: 0.0987\n",
      "Epoch 7/10\n",
      "60000/60000 [==============================] - 3s 45us/step - loss: 14.5280 - acc: 0.0987\n",
      "Epoch 8/10\n",
      "60000/60000 [==============================] - 3s 47us/step - loss: 14.5280 - acc: 0.0987\n",
      "Epoch 9/10\n",
      "60000/60000 [==============================] - 3s 43us/step - loss: 14.5280 - acc: 0.0987\n",
      "Epoch 10/10\n",
      "60000/60000 [==============================] - 3s 46us/step - loss: 14.5280 - acc: 0.0987\n",
      "10000/10000 [==============================] - 0s 25us/step\n",
      "loss:  14.5739816513\n",
      "accuracy:  0.0958\n"
     ]
    }
   ],
   "source": [
    "# Stochastic Gradient Descent\n",
    "model = Sequential()\n",
    "model.add(Dense(64, activation=\"relu\", input_shape=x_train.shape[1:]))\n",
    "model.add(Dense(10, activation=\"softmax\"))\n",
    "model.compile(loss=\"categorical_crossentropy\",\n",
    "              optimizer=\"sgd\",\n",
    "             metrics=[\"accuracy\"])\n",
    "\n",
    "model.fit(x_train, y_train, epochs=10)\n",
    "\n",
    "result = model.evaluate(x_test, y_test)\n",
    "print(\"loss: \", result[0])\n",
    "print(\"accuracy: \", result[1])"
   ]
  },
  {
   "cell_type": "code",
   "execution_count": 10,
   "metadata": {},
   "outputs": [
    {
     "name": "stdout",
     "output_type": "stream",
     "text": [
      "Epoch 1/10\n",
      "60000/60000 [==============================] - 3s 57us/step - loss: 9.2531 - acc: 0.4238\n",
      "Epoch 2/10\n",
      "60000/60000 [==============================] - 4s 64us/step - loss: 5.4843 - acc: 0.6572\n",
      "Epoch 3/10\n",
      "60000/60000 [==============================] - 4s 66us/step - loss: 3.2244 - acc: 0.7975\n",
      "Epoch 4/10\n",
      "60000/60000 [==============================] - 3s 54us/step - loss: 2.8642 - acc: 0.8203\n",
      "Epoch 5/10\n",
      "60000/60000 [==============================] - 3s 58us/step - loss: 2.7031 - acc: 0.8305\n",
      "Epoch 6/10\n",
      "60000/60000 [==============================] - 3s 56us/step - loss: 2.6579 - acc: 0.8337\n",
      "Epoch 7/10\n",
      "60000/60000 [==============================] - 4s 69us/step - loss: 2.6764 - acc: 0.8327\n",
      "Epoch 8/10\n",
      "60000/60000 [==============================] - 4s 58us/step - loss: 2.6205 - acc: 0.8363\n",
      "Epoch 9/10\n",
      "60000/60000 [==============================] - 4s 60us/step - loss: 2.2045 - acc: 0.8615\n",
      "Epoch 10/10\n",
      "60000/60000 [==============================] - 4s 62us/step - loss: 1.6162 - acc: 0.8982\n",
      "10000/10000 [==============================] - 0s 27us/step\n",
      "loss:  1.50709001517\n",
      "accuracy:  0.9052\n"
     ]
    }
   ],
   "source": [
    "# Adaptive Moment Estimation\n",
    "model = Sequential()\n",
    "model.add(Dense(64, activation=\"relu\", input_shape=x_train.shape[1:]))\n",
    "model.add(Dense(10, activation=\"softmax\"))\n",
    "model.compile(loss=\"categorical_crossentropy\",\n",
    "              optimizer=\"Adam\",\n",
    "             metrics=[\"accuracy\"])\n",
    "\n",
    "model.fit(x_train, y_train, epochs=10)\n",
    "\n",
    "result = model.evaluate(x_test, y_test)\n",
    "print(\"loss: \", result[0])\n",
    "print(\"accuracy: \", result[1])"
   ]
  }
 ],
 "metadata": {
  "kernelspec": {
   "display_name": "Python 3",
   "language": "python",
   "name": "python3"
  },
  "language_info": {
   "codemirror_mode": {
    "name": "ipython",
    "version": 3
   },
   "file_extension": ".py",
   "mimetype": "text/x-python",
   "name": "python",
   "nbconvert_exporter": "python",
   "pygments_lexer": "ipython3",
   "version": "3.6.4"
  }
 },
 "nbformat": 4,
 "nbformat_minor": 2
}
